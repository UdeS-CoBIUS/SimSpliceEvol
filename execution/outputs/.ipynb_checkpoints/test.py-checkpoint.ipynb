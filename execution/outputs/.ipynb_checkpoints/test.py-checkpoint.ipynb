{
 "cells": [
  {
   "cell_type": "code",
   "execution_count": 399,
   "metadata": {},
   "outputs": [],
   "source": [
    "import pandas as pd"
   ]
  },
  {
   "cell_type": "code",
   "execution_count": null,
   "metadata": {},
   "outputs": [],
   "source": []
  },
  {
   "cell_type": "code",
   "execution_count": 400,
   "metadata": {},
   "outputs": [],
   "source": [
    "def is_same_value_in_list(lst, value):\n",
    "    return all(element == value for element in lst)"
   ]
  },
  {
   "cell_type": "code",
   "execution_count": 401,
   "metadata": {},
   "outputs": [],
   "source": [
    "def read_fasta(path):\n",
    "    file = open(path, 'r')\n",
    "    lines = [str(_).split('\\n')[0] for _ in file.readlines()]\n",
    "    list_ids = []\n",
    "    list_sequences = []\n",
    "    for i, line in enumerate(lines):\n",
    "        if line.startswith('>'):\n",
    "            id = line\n",
    "            list_ids.append(id.split('>')[-1])\n",
    "            seq = lines[i+1]\n",
    "            list_sequences.append(seq)\n",
    "    df = pd.DataFrame(data={'id':list_ids, 'sequence':list_sequences}, columns=['id', 'sequence'])\n",
    "    file.close()\n",
    "    return df"
   ]
  },
  {
   "cell_type": "code",
   "execution_count": null,
   "metadata": {},
   "outputs": [],
   "source": []
  },
  {
   "cell_type": "code",
   "execution_count": 402,
   "metadata": {},
   "outputs": [],
   "source": [
    "path_pairwise_alignments = './pairwise_alignments/_iteration_0/out_pairwise_alignments_2.fasta'\n",
    "path_multiple_alignments = './multiple_alignments/_iteration_0/out_multiple_cDNAsequences_alignment.fasta'\n",
    "path_exons_positions = './exons_positions/_iteration_0/out_positions.fasta'\n",
    "path_genes = './genes/_iteration_0/out_genes.fasta'\n",
    "path_transcripts = './transcripts/_iteration_0/out_transcripts.fasta'\n"
   ]
  },
  {
   "cell_type": "markdown",
   "metadata": {},
   "source": [
    "# Verification des genes"
   ]
  },
  {
   "cell_type": "markdown",
   "metadata": {},
   "source": [
    " ```longueur et sequence```"
   ]
  },
  {
   "cell_type": "code",
   "execution_count": 403,
   "metadata": {},
   "outputs": [],
   "source": [
    "df_pairwise = read_fasta(path_pairwise_alignments)\n",
    "df_multiple_alignments = read_fasta(path_multiple_alignments)\n",
    "df_genes = read_fasta(path_genes)\n",
    "df_transcripts = read_fasta(path_transcripts)"
   ]
  },
  {
   "cell_type": "code",
   "execution_count": 404,
   "metadata": {},
   "outputs": [
    {
     "name": "stdout",
     "output_type": "stream",
     "text": [
      "Successful\n"
     ]
    }
   ],
   "source": [
    "# controle de la longueur et de la sequence\n",
    "erreur = False\n",
    "for iter, row in df_pairwise.iterrows():\n",
    "    name = row.id\n",
    "    if len(name.split(':')) == 1:\n",
    "        sequence = row.sequence\n",
    "        length_sequence_pairwise = len(sequence)\n",
    "        #print(df_multiple_alignments[df_multiple_alignments.id==name].sequence.values[0])\n",
    "        #length_sequence_multi = df_multiple_alignments[df_multiple_alignments.id==name].sequence.values[0].replace('-','')\n",
    "        length_gene = len(df_genes[df_genes.id==name].sequence.values[0])\n",
    "        if df_genes[df_genes.id==name].sequence.values[0] != sequence:\n",
    "            #print('Error')\n",
    "            erreur = True\n",
    "        #print(f'The length of gene: {length_gene}\\nThe length of pairwise gene: {length_sequence_pairwise}')\n",
    "        if is_same_value_in_list([length_sequence_pairwise, length_gene], length_gene):\n",
    "            pass\n",
    "        else:\n",
    "            #print('ERROR: {}'.format(name))\n",
    "            erreur = True\n",
    "        #print('----------------------------------')\n",
    "if erreur:\n",
    "    print('Ouppssss.....Errors detected')\n",
    "else:\n",
    "    print('Successful')"
   ]
  },
  {
   "cell_type": "code",
   "execution_count": null,
   "metadata": {},
   "outputs": [],
   "source": []
  },
  {
   "cell_type": "code",
   "execution_count": null,
   "metadata": {},
   "outputs": [],
   "source": []
  },
  {
   "cell_type": "code",
   "execution_count": null,
   "metadata": {},
   "outputs": [],
   "source": []
  },
  {
   "cell_type": "markdown",
   "metadata": {},
   "source": [
    "# Verification des transcripts"
   ]
  },
  {
   "cell_type": "markdown",
   "metadata": {},
   "source": [
    " ```longueur et sequence```"
   ]
  },
  {
   "cell_type": "code",
   "execution_count": 405,
   "metadata": {},
   "outputs": [
    {
     "name": "stdout",
     "output_type": "stream",
     "text": [
      "transcript_13:mdom\n",
      "Ouppssss.....Errors detected\n"
     ]
    }
   ],
   "source": [
    "erreur = False\n",
    "a = ''\n",
    "b = ''\n",
    "for iter, row in df_pairwise.iterrows():\n",
    "    name = row.id\n",
    "    if len(name.split(':')) == 2:\n",
    "        #print(name)\n",
    "        sequence_pairwise = row.sequence.replace('-','')\n",
    "        length_sequence_pairwise = len(sequence_pairwise)\n",
    "\n",
    "        sequence_multi = df_multiple_alignments[df_multiple_alignments.id==name].sequence.values[0].replace('-','')\n",
    "        length_sequence_multi = len(sequence_multi)\n",
    "        \n",
    "        gene_sequence = df_genes[df_genes.id==name.split(':')[-1]].sequence.values[0]\n",
    "        \n",
    "        transcript_sequence = df_transcripts[df_transcripts.id==name].sequence.values[0]\n",
    "        length_transcript = len(transcript_sequence)\n",
    "        \n",
    "        if transcript_sequence != sequence_pairwise:\n",
    "            print('a')\n",
    "            #print(transcript_sequence[:10])\n",
    "            #print(sequence_pairwise[:10])\n",
    "            erreur = True\n",
    "            break\n",
    "        if transcript_sequence != sequence_multi:\n",
    "            print('b')\n",
    "            print(name)\n",
    "            #print(transcript_sequence)\n",
    "            a = transcript_sequence\n",
    "            #print(sequence_multi)\n",
    "            b = sequence_multi\n",
    "            erreur = True\n",
    "            break\n",
    "            pass\n",
    "        #print(f'The length of gene: {length_gene}\\nThe length of pairwise gene: {length_sequence_pairwise}')\n",
    "        \n",
    "        #print(erreur)\n",
    "        if is_same_value_in_list([length_sequence_pairwise, length_transcript, length_sequence_multi], length_transcript):\n",
    "            pass\n",
    "        else:\n",
    "            #print('ERROR: {}'.format(name))\n",
    "            #print([length_sequence_pairwise, length_transcript, length_sequence_multi])\n",
    "            #break\n",
    "            erreur = True\n",
    "        #print('----------------------------------')\n",
    "if erreur:\n",
    "    print('Ouppssss.....Errors detected')\n",
    "else:\n",
    "    print('Successful')"
   ]
  },
  {
   "cell_type": "code",
   "execution_count": 406,
   "metadata": {},
   "outputs": [
    {
     "data": {
      "text/plain": [
       "4890"
      ]
     },
     "execution_count": 406,
     "metadata": {},
     "output_type": "execute_result"
    }
   ],
   "source": [
    "len(a)"
   ]
  },
  {
   "cell_type": "code",
   "execution_count": 407,
   "metadata": {},
   "outputs": [
    {
     "data": {
      "text/plain": [
       "5376"
      ]
     },
     "execution_count": 407,
     "metadata": {},
     "output_type": "execute_result"
    }
   ],
   "source": [
    "len(b)"
   ]
  },
  {
   "cell_type": "code",
   "execution_count": 394,
   "metadata": {},
   "outputs": [
    {
     "name": "stdout",
     "output_type": "stream",
     "text": [
      "1986\n"
     ]
    }
   ],
   "source": [
    "x=0\n",
    "for i in range(len(a)):\n",
    "    if a[i] != b[i]:\n",
    "        print(i)\n",
    "        x = i\n",
    "        break"
   ]
  },
  {
   "cell_type": "markdown",
   "metadata": {},
   "source": [
    " ```positions```"
   ]
  },
  {
   "cell_type": "code",
   "execution_count": 395,
   "metadata": {},
   "outputs": [
    {
     "data": {
      "text/plain": [
       "'CTGGGCTGATTCTGG'"
      ]
     },
     "execution_count": 395,
     "metadata": {},
     "output_type": "execute_result"
    }
   ],
   "source": [
    "a[x-5:x+10]"
   ]
  },
  {
   "cell_type": "code",
   "execution_count": 396,
   "metadata": {},
   "outputs": [
    {
     "data": {
      "text/plain": [
       "'CTGGG***TTC***C'"
      ]
     },
     "execution_count": 396,
     "metadata": {},
     "output_type": "execute_result"
    }
   ],
   "source": [
    "b[x-5:x+10]"
   ]
  },
  {
   "cell_type": "markdown",
   "metadata": {},
   "source": [
    "``` test positions```"
   ]
  },
  {
   "cell_type": "code",
   "execution_count": null,
   "metadata": {},
   "outputs": [],
   "source": [
    "file_pos = open(path_exons_positions, 'r')"
   ]
  },
  {
   "cell_type": "code",
   "execution_count": 303,
   "metadata": {},
   "outputs": [],
   "source": [
    "v = [1, 2]"
   ]
  },
  {
   "cell_type": "code",
   "execution_count": 304,
   "metadata": {},
   "outputs": [],
   "source": [
    "v.insert(0, 'x')"
   ]
  },
  {
   "cell_type": "code",
   "execution_count": 305,
   "metadata": {},
   "outputs": [
    {
     "data": {
      "text/plain": [
       "['x', 1, 2]"
      ]
     },
     "execution_count": 305,
     "metadata": {},
     "output_type": "execute_result"
    }
   ],
   "source": [
    "v"
   ]
  },
  {
   "cell_type": "code",
   "execution_count": 316,
   "metadata": {},
   "outputs": [],
   "source": [
    "import random\n",
    "a = random.randint(1, len(v)-1)"
   ]
  },
  {
   "cell_type": "code",
   "execution_count": 317,
   "metadata": {},
   "outputs": [
    {
     "data": {
      "text/plain": [
       "1"
      ]
     },
     "execution_count": 317,
     "metadata": {},
     "output_type": "execute_result"
    }
   ],
   "source": [
    "a"
   ]
  },
  {
   "cell_type": "code",
   "execution_count": 318,
   "metadata": {},
   "outputs": [
    {
     "data": {
      "text/plain": [
       "0"
      ]
     },
     "execution_count": 318,
     "metadata": {},
     "output_type": "execute_result"
    }
   ],
   "source": [
    "start = a-1\n",
    "start"
   ]
  },
  {
   "cell_type": "code",
   "execution_count": 319,
   "metadata": {},
   "outputs": [
    {
     "data": {
      "text/plain": [
       "1"
      ]
     },
     "execution_count": 319,
     "metadata": {},
     "output_type": "execute_result"
    }
   ],
   "source": [
    "stop = a\n",
    "stop"
   ]
  },
  {
   "cell_type": "code",
   "execution_count": 246,
   "metadata": {},
   "outputs": [],
   "source": [
    "v.insert(2, 'w')"
   ]
  },
  {
   "cell_type": "code",
   "execution_count": 247,
   "metadata": {},
   "outputs": [
    {
     "data": {
      "text/plain": [
       "['x', 1, 'w', 2]"
      ]
     },
     "execution_count": 247,
     "metadata": {},
     "output_type": "execute_result"
    }
   ],
   "source": [
    "v"
   ]
  },
  {
   "cell_type": "code",
   "execution_count": null,
   "metadata": {},
   "outputs": [],
   "source": []
  }
 ],
 "metadata": {
  "kernelspec": {
   "display_name": "Python 3",
   "language": "python",
   "name": "python3"
  },
  "language_info": {
   "codemirror_mode": {
    "name": "ipython",
    "version": 3
   },
   "file_extension": ".py",
   "mimetype": "text/x-python",
   "name": "python",
   "nbconvert_exporter": "python",
   "pygments_lexer": "ipython3",
   "version": "3.6.9"
  }
 },
 "nbformat": 4,
 "nbformat_minor": 4
}
